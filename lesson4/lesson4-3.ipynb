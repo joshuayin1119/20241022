{
 "cells": [
  {
   "cell_type": "code",
   "execution_count": 1,
   "metadata": {},
   "outputs": [
    {
     "name": "stdout",
     "output_type": "stream",
     "text": [
      "nice\n",
      "okay\n"
     ]
    }
   ],
   "source": [
    "scores=int(input(\"enter the score:\"))\n",
    "if scores>=60:\n",
    "    print(\"nice\")\n",
    "    if scores>=90:\n",
    "        print('excellent')\n",
    "    else:\n",
    "        print('okay')\n",
    "else:\n",
    "    print(\"fail\")\n",
    "    if scores>=50:\n",
    "        print('C')\n",
    "    else:\n",
    "        print('D')"
   ]
  },
  {
   "cell_type": "code",
   "execution_count": 2,
   "metadata": {},
   "outputs": [
    {
     "name": "stdout",
     "output_type": "stream",
     "text": [
      "丁\n"
     ]
    }
   ],
   "source": [
    "scores = int(input(\"請輸入學生分數0~100\"))\n",
    "if scores >= 90:\n",
    "    print('優')\n",
    "else:\n",
    "    if scores >= 80:\n",
    "        print('甲')\n",
    "    else:\n",
    "        if scores >= 70:\n",
    "            print('乙')\n",
    "        else:\n",
    "            if scores >= 60:\n",
    "                print('丙')\n",
    "            else:\n",
    "                print('丁')"
   ]
  },
  {
   "cell_type": "code",
   "execution_count": 3,
   "metadata": {},
   "outputs": [
    {
     "name": "stdout",
     "output_type": "stream",
     "text": [
      "甲\n"
     ]
    }
   ],
   "source": [
    "#多項選擇\n",
    "scores = int(input(\"請輸入學生分數0~100\"))\n",
    "if scores >= 90:\n",
    "    print('優')\n",
    "elif scores >= 80:    \n",
    "    print('甲')\n",
    "elif scores >= 70:\n",
    "    print('乙')\n",
    "elif scores >= 60:            \n",
    "    print('丙')\n",
    "else:\n",
    "    print('丁')"
   ]
  },
  {
   "cell_type": "code",
   "execution_count": 14,
   "metadata": {},
   "outputs": [
    {
     "name": "stdout",
     "output_type": "stream",
     "text": [
      "Your BMI:18.21\n",
      "過輕\n"
     ]
    }
   ],
   "source": [
    "try:\n",
    "    height=eval(input('how tall are you(cm)'))\n",
    "    weight=eval(input('how much do you weight(kg)'))\n",
    "    BMI=weight/((height/100)**2)\n",
    "    print(f'Your BMI:{BMI:.2f}')\n",
    "    if BMI>=35:\n",
    "        print(\"重度肥胖\")\n",
    "    elif BMI>=30:\n",
    "        print(\"中度肥胖\")\n",
    "    elif BMI>=27:\n",
    "        print(\"輕度肥胖\")\n",
    "    elif BMI>=24:\n",
    "        print(\"過重\")\n",
    "    elif BMI>=18.5:\n",
    "        print(\"正常\")\n",
    "    else:\n",
    "        print(\"過輕\")\n",
    "except SyntaxError:\n",
    "    print(\"格式錯誤，結束程式\")\n",
    "except Exception:\n",
    "    print(\"不知名錯誤\")\n",
    "\n"
   ]
  }
 ],
 "metadata": {
  "kernelspec": {
   "display_name": "Python 3",
   "language": "python",
   "name": "python3"
  },
  "language_info": {
   "codemirror_mode": {
    "name": "ipython",
    "version": 3
   },
   "file_extension": ".py",
   "mimetype": "text/x-python",
   "name": "python",
   "nbconvert_exporter": "python",
   "pygments_lexer": "ipython3",
   "version": "3.10.15"
  }
 },
 "nbformat": 4,
 "nbformat_minor": 2
}
