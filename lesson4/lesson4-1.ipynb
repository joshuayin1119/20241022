{
 "cells": [
  {
   "cell_type": "markdown",
   "metadata": {},
   "source": [
    "#### 判斷if"
   ]
  },
  {
   "cell_type": "code",
   "execution_count": 13,
   "metadata": {},
   "outputs": [
    {
     "name": "stdout",
     "output_type": "stream",
     "text": [
      "學生的分數:300.0\n"
     ]
    }
   ],
   "source": [
    "#學生總分最高為300\n",
    "#如果分數超過300,就以300分為準\n",
    "#有些學生可以加分5%\n",
    "#eval 直接轉換成int or float\n",
    "scores = eval(input('請輸入學生分數(最高300分):'))\n",
    "if(scores > 300):\n",
    "    scores = 300\n",
    "is_add = input(\"學生是否符合加分條件?(y,n)\")\n",
    "if is_add == 'y':#巢狀判斷\n",
    "    scores *= 1.05\n",
    "    if scores>=300:\n",
    "        scores=300\n",
    "\n",
    "print(f\"學生的分數:{scores:.1f}\")"
   ]
  },
  {
   "cell_type": "markdown",
   "metadata": {},
   "source": [
    "### python raise error\n",
    "- 系統錯或自己raise錯"
   ]
  },
  {
   "cell_type": "code",
   "execution_count": 15,
   "metadata": {},
   "outputs": [
    {
     "name": "stdout",
     "output_type": "stream",
     "text": [
      "發生錯誤\n"
     ]
    }
   ],
   "source": [
    "#處理錯誤try...except...else..finally\n",
    "#優雅的失敗\n",
    "try:\n",
    "    raise Exception('無法處理')\n",
    "except:\n",
    "    print(\"發生錯誤\")"
   ]
  },
  {
   "cell_type": "code",
   "execution_count": 16,
   "metadata": {},
   "outputs": [
    {
     "name": "stdout",
     "output_type": "stream",
     "text": [
      "沒有錯誤\n"
     ]
    }
   ],
   "source": [
    "#處理錯誤try...except...else..finally\n",
    "#優雅的失敗\n",
    "#輸出是何種錯誤\n",
    "#else -> 沒有發生錯誤,執行的程式區塊\n",
    "\n",
    "try:\n",
    "    #raise Exception('無法處理')\n",
    "    pass\n",
    "except Exception as e:\n",
    "    print(\"發生錯誤\")\n",
    "    print(f\"錯誤是:{e}\")\n",
    "else:\n",
    "    print('沒有錯誤')"
   ]
  },
  {
   "cell_type": "code",
   "execution_count": 19,
   "metadata": {},
   "outputs": [
    {
     "name": "stdout",
     "output_type": "stream",
     "text": [
      "發生錯誤\n",
      "錯誤是:無法處理\n"
     ]
    }
   ],
   "source": [
    "#處理錯誤try...except...else..finally\n",
    "#優雅的失敗\n",
    "#輸出是何種錯誤\n",
    "\n",
    "try:\n",
    "    raise Exception('無法處理')\n",
    "except Exception as e:\n",
    "    print(\"發生錯誤\")\n",
    "    print(f\"錯誤是:{e}\")\n"
   ]
  },
  {
   "cell_type": "code",
   "execution_count": 20,
   "metadata": {},
   "outputs": [
    {
     "name": "stdout",
     "output_type": "stream",
     "text": [
      "目前發生錯誤:invalid decimal literal (<string>, line 1)\n"
     ]
    }
   ],
   "source": [
    "try:\n",
    "    money = eval(input(\"請輸入金額:\"))\n",
    "    print(money)\n",
    "except Exception as e:\n",
    "    print(f'目前發生錯誤:{e}')"
   ]
  }
 ],
 "metadata": {
  "kernelspec": {
   "display_name": "Python 3",
   "language": "python",
   "name": "python3"
  },
  "language_info": {
   "codemirror_mode": {
    "name": "ipython",
    "version": 3
   },
   "file_extension": ".py",
   "mimetype": "text/x-python",
   "name": "python",
   "nbconvert_exporter": "python",
   "pygments_lexer": "ipython3",
   "version": "3.10.15"
  }
 },
 "nbformat": 4,
 "nbformat_minor": 2
}
